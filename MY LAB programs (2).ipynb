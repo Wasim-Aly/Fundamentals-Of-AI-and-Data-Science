{
 "cells": [
  {
   "cell_type": "code",
   "execution_count": null,
   "id": "2b097fce-b704-469c-9940-878013a8fb27",
   "metadata": {},
   "outputs": [],
   "source": [
    "#first lab"
   ]
  },
  {
   "cell_type": "code",
   "execution_count": 1,
   "id": "f80cb001-1542-486b-9ee2-be85e096d3eb",
   "metadata": {},
   "outputs": [
    {
     "name": "stdout",
     "output_type": "stream",
     "text": [
      "this a value of a number : 8\n"
     ]
    }
   ],
   "source": [
    "x=8\n",
    "print(f\"this a value of a number : {x}\")"
   ]
  },
  {
   "cell_type": "code",
   "execution_count": 3,
   "id": "d639bd84-6159-4d28-8bd2-f9e63be88b74",
   "metadata": {},
   "outputs": [
    {
     "name": "stdout",
     "output_type": "stream",
     "text": [
      "6__12__24__36\n"
     ]
    }
   ],
   "source": [
    "x=6\n",
    "print(f\"{x}__{x*2}__{x*4}__{x*6}\")"
   ]
  },
  {
   "cell_type": "code",
   "execution_count": 5,
   "id": "b66f415f-3776-4f3d-a2d9-2c6e919e4528",
   "metadata": {},
   "outputs": [
    {
     "name": "stdin",
     "output_type": "stream",
     "text": [
      "What's up hii\n"
     ]
    },
    {
     "data": {
      "text/plain": [
       "'hii'"
      ]
     },
     "execution_count": 5,
     "metadata": {},
     "output_type": "execute_result"
    }
   ],
   "source": [
    "input(\"What's up\")"
   ]
  },
  {
   "cell_type": "code",
   "execution_count": 7,
   "id": "6f928426-fb50-430b-9621-9eac2109c956",
   "metadata": {},
   "outputs": [
    {
     "name": "stdin",
     "output_type": "stream",
     "text": [
      "enter a number 66\n"
     ]
    }
   ],
   "source": [
    "ver=int(input(\"enter a number\"))"
   ]
  },
  {
   "cell_type": "code",
   "execution_count": null,
   "id": "380e4280-34b9-444d-85d8-1dbeb03424b5",
   "metadata": {},
   "outputs": [],
   "source": [
    "#lists Day 3"
   ]
  },
  {
   "cell_type": "code",
   "execution_count": 9,
   "id": "a1966374-16e9-4de0-bd11-f7f97b8a9a8a",
   "metadata": {},
   "outputs": [
    {
     "name": "stdout",
     "output_type": "stream",
     "text": [
      "['rohail', 'ahrar', 'yaseen', 'wasim']\n"
     ]
    }
   ],
   "source": [
    "list=[\"rohail\",\"ahrar\",\"yaseen\",\"wasim\"]\n",
    "print(list)"
   ]
  },
  {
   "cell_type": "code",
   "execution_count": 11,
   "id": "5b906760-3732-42ff-8b5b-38ca2fdb6872",
   "metadata": {},
   "outputs": [
    {
     "name": "stdin",
     "output_type": "stream",
     "text": [
      "enter obt marks: 55\n",
      "enter total marks 100\n"
     ]
    },
    {
     "name": "stdout",
     "output_type": "stream",
     "text": [
      "you scored : 55.00000000000001\n"
     ]
    }
   ],
   "source": [
    "int1 = int(input(\"enter obt marks:\"))\n",
    "int2  = int (input(\"enter total marks\"))\n",
    "percentage = int1/int2*100\n",
    "print(\"you scored :\",percentage)"
   ]
  },
  {
   "cell_type": "code",
   "execution_count": null,
   "id": "cc0fc3fe-84e8-4534-90bc-54a1ae1e403f",
   "metadata": {},
   "outputs": [],
   "source": [
    "#day 4"
   ]
  },
  {
   "cell_type": "code",
   "execution_count": 17,
   "id": "bbf7fad2-f624-4fed-b59f-d52262c7a146",
   "metadata": {},
   "outputs": [
    {
     "data": {
      "text/plain": [
       "5"
      ]
     },
     "execution_count": 17,
     "metadata": {},
     "output_type": "execute_result"
    }
   ],
   "source": [
    "my_list = [3,4,5]\n",
    "my_list.pop( 2)"
   ]
  },
  {
   "cell_type": "code",
   "execution_count": 21,
   "id": "048f5c6c-dfa7-4449-af17-355bb3fa3d4c",
   "metadata": {},
   "outputs": [
    {
     "name": "stdout",
     "output_type": "stream",
     "text": [
      "List after removing 3: [1, 2, 4, 5]\n"
     ]
    }
   ],
   "source": [
    "# Define a list\n",
    "my_list = [1, 2, 3, 4, 5]\n",
    "\n",
    "# Remove a specific element (e.g., 3)\n",
    "my_list.remove(3)\n",
    "\n",
    "print(\"List after removing 3:\", my_list)\n"
   ]
  },
  {
   "cell_type": "code",
   "execution_count": null,
   "id": "4f765f55-202e-4112-aa50-9947e018ddc0",
   "metadata": {},
   "outputs": [],
   "source": [
    "#Continue and Break statement 6th August"
   ]
  },
  {
   "cell_type": "code",
   "execution_count": 13,
   "id": "60457811-0ae6-474a-9b0c-951110a8eb9c",
   "metadata": {},
   "outputs": [
    {
     "name": "stdout",
     "output_type": "stream",
     "text": [
      "0\n",
      "1\n",
      "2\n",
      "3\n",
      "4\n",
      "5\n",
      "6\n",
      "7\n",
      "8\n",
      "9\n"
     ]
    }
   ],
   "source": [
    "for i in range(10):\n",
    "   if i==5:\n",
    "       print(i)\n",
    "       continue\n",
    "   else:\n",
    "       print(i)"
   ]
  },
  {
   "cell_type": "code",
   "execution_count": 15,
   "id": "f0aff4c7-37e3-469a-a7a3-fe06ce8acd19",
   "metadata": {},
   "outputs": [
    {
     "name": "stdout",
     "output_type": "stream",
     "text": [
      "0\n",
      "1\n",
      "2\n",
      "3\n",
      "4\n",
      "5\n"
     ]
    }
   ],
   "source": [
    "for i in range(10):\n",
    "   if i==5:\n",
    "       print(i)\n",
    "       break\n",
    "   else:\n",
    "       print(i)"
   ]
  },
  {
   "cell_type": "markdown",
   "id": "4774a727-baed-4bed-ad77-c1e33af2c023",
   "metadata": {},
   "source": [
    "<!-- 7th August Labs -->\n"
   ]
  },
  {
   "cell_type": "code",
   "execution_count": null,
   "id": "5aff4214-47df-4861-96bb-5df971cb6221",
   "metadata": {},
   "outputs": [],
   "source": [
    "# 7th AUgust Labs\n",
    "\n"
   ]
  },
  {
   "cell_type": "code",
   "execution_count": 15,
   "id": "dcdebf78-3aad-435a-b299-6d19f5636975",
   "metadata": {},
   "outputs": [
    {
     "name": "stdout",
     "output_type": "stream",
     "text": [
      "today's Topic is(top)\n",
      "Today we learnt about python\n"
     ]
    }
   ],
   "source": [
    "def display_message(top,set):\n",
    "    print(f\"today's Topic is(top)\")\n",
    "    print(f\"{set}\")\n",
    "    \n",
    "display_message(\"function\",\"Today we learnt about python\")\n",
    "    "
   ]
  },
  {
   "cell_type": "code",
   "execution_count": 41,
   "id": "396e0161-9be0-497e-aeda-978117c1f46d",
   "metadata": {},
   "outputs": [
    {
     "name": "stdout",
     "output_type": "stream",
     "text": [
      "my favourite book is (Think and Grow Rich) Written By Napoleon Hill\n"
     ]
    }
   ],
   "source": [
    "def fav_book(fvrt):\n",
    "    print(f\"my favourite book is {fvrt} Written By Napoleon Hill\")\n",
    "fav_book(\"(Think and Grow Rich)\")\n"
   ]
  },
  {
   "cell_type": "code",
   "execution_count": null,
   "id": "9a0cfc15-7a58-4e6b-800c-7ed768f694b8",
   "metadata": {},
   "outputs": [],
   "source": []
  },
  {
   "cell_type": "code",
   "execution_count": 37,
   "id": "ee36b800-3759-43c7-8a4f-1e33c33ad160",
   "metadata": {},
   "outputs": [
    {
     "name": "stdout",
     "output_type": "stream",
     "text": [
      "i have a farari of 2001 model\n"
     ]
    }
   ],
   "source": [
    "def describe_cars(name , model):\n",
    "    print(f\"i have a {name} of {model} model\")\n",
    "    print(f\" {model} model\")\n",
    "describe_cars(\"farari\", \"2001\")"
   ]
  },
  {
   "cell_type": "code",
   "execution_count": 82,
   "id": "d644fe37-77f4-43b1-8d90-71dc7f009433",
   "metadata": {},
   "outputs": [
    {
     "name": "stdin",
     "output_type": "stream",
     "text": [
      "size of your shirt: 44\n"
     ]
    },
    {
     "name": "stdout",
     "output_type": "stream",
     "text": [
      " your shirt size is extra large and your size:44   \n",
      "\n"
     ]
    },
    {
     "data": {
      "text/plain": [
       "44"
      ]
     },
     "execution_count": 82,
     "metadata": {},
     "output_type": "execute_result"
    }
   ],
   "source": [
    "x = int(input(\"size of your shirt:\"))\n",
    "def make_shrt(size):\n",
    "    if size <=12:\n",
    "        print(f\"your shirt size is small and your size {size} \")\n",
    "    elif size <=15:\n",
    "        print(f\"your shirt size is medium and your size{size} \")\n",
    "    elif size <=20:\n",
    "        print(f\"your shirt size is large and your size{size} \")\n",
    "    else:\n",
    "        print(f\" your shirt size is extra large and your size:{size}   \\n\") \n",
    "   \n",
    "  \n",
    "    return size\n",
    "make_shrt(x)\n"
   ]
  },
  {
   "cell_type": "code",
   "execution_count": 3,
   "id": "e5b2041e-604f-4471-8ea4-88e12f9c1440",
   "metadata": {},
   "outputs": [],
   "source": [
    "# 8 August to 11th august Labs\n"
   ]
  },
  {
   "cell_type": "code",
   "execution_count": 7,
   "id": "771cfb30-21ee-4964-b4fc-3ccc63154b93",
   "metadata": {},
   "outputs": [
    {
     "name": "stdout",
     "output_type": "stream",
     "text": [
      "0.0015926529164868282\n",
      "3.141592653589793\n"
     ]
    }
   ],
   "source": [
    " # import only sin and pi from maths module:\n",
    "from math import sin,pi\n",
    "print (math.sin(3.14))\n",
    "print(pi) "
   ]
  },
  {
   "cell_type": "code",
   "execution_count": 15,
   "id": "329743a2-03dc-4f7a-b20f-fb8af37e9f46",
   "metadata": {},
   "outputs": [
    {
     "name": "stdout",
     "output_type": "stream",
     "text": [
      "0.8939966636005579\n",
      "<built-in function sin>\n"
     ]
    }
   ],
   "source": [
    "from math import sin,pi\n",
    "print(math.sin(90))\n",
    "print(sin)"
   ]
  },
  {
   "cell_type": "code",
   "execution_count": 3,
   "id": "d5d310f9-0234-4a7c-bdaa-7e3dc60962c7",
   "metadata": {},
   "outputs": [
    {
     "data": {
      "text/plain": [
       "4"
      ]
     },
     "execution_count": 3,
     "metadata": {},
     "output_type": "execute_result"
    }
   ],
   "source": [
    "import math\n",
    "math.ceil(3.14)"
   ]
  },
  {
   "cell_type": "code",
   "execution_count": 25,
   "id": "3730dcba-d9c7-4e2b-99df-46b84c9495e6",
   "metadata": {},
   "outputs": [
    {
     "data": {
      "text/plain": [
       "18"
      ]
     },
     "execution_count": 25,
     "metadata": {},
     "output_type": "execute_result"
    }
   ],
   "source": [
    "import random\n",
    "random.randint(1,20)\n"
   ]
  },
  {
   "cell_type": "code",
   "execution_count": 27,
   "id": "24d3c2c8-3313-482b-a001-1dbb006c7033",
   "metadata": {},
   "outputs": [
    {
     "data": {
      "text/plain": [
       "4.869995347694625"
      ]
     },
     "execution_count": 27,
     "metadata": {},
     "output_type": "execute_result"
    }
   ],
   "source": [
    "import random\n",
    "random.uniform(1,20)"
   ]
  },
  {
   "cell_type": "code",
   "execution_count": 31,
   "id": "9ecf89ab-3b17-422e-b146-8cb3ef28e4c7",
   "metadata": {},
   "outputs": [
    {
     "data": {
      "text/plain": [
       "3"
      ]
     },
     "execution_count": 31,
     "metadata": {},
     "output_type": "execute_result"
    }
   ],
   "source": [
    "random.choice([1,\"up\",\"down\",2,3,5,6])"
   ]
  },
  {
   "cell_type": "code",
   "execution_count": 34,
   "id": "03bc0192-0c3e-4c42-8757-ac5061f7b80a",
   "metadata": {},
   "outputs": [
    {
     "data": {
      "text/plain": [
       "64"
      ]
     },
     "execution_count": 34,
     "metadata": {},
     "output_type": "execute_result"
    }
   ],
   "source": [
    "import math\n",
    "8**2"
   ]
  },
  {
   "cell_type": "code",
   "execution_count": 49,
   "id": "2590fa14-aac1-4a3d-8b97-a833f312a4f4",
   "metadata": {},
   "outputs": [
    {
     "data": {
      "text/plain": [
       "64.0"
      ]
     },
     "execution_count": 49,
     "metadata": {},
     "output_type": "execute_result"
    }
   ],
   "source": [
    "math.pow(4,3)     "
   ]
  },
  {
   "cell_type": "code",
   "execution_count": 53,
   "id": "c25079a3-76ac-4f75-8601-cf8baa4c8b67",
   "metadata": {},
   "outputs": [
    {
     "data": {
      "text/plain": [
       "True"
      ]
     },
     "execution_count": 53,
     "metadata": {},
     "output_type": "execute_result"
    }
   ],
   "source": [
    "53==106/2"
   ]
  },
  {
   "cell_type": "code",
   "execution_count": 55,
   "id": "3f0848e7-940a-48a7-a42a-17ad0c00c07f",
   "metadata": {},
   "outputs": [
    {
     "data": {
      "text/plain": [
       "False"
      ]
     },
     "execution_count": 55,
     "metadata": {},
     "output_type": "execute_result"
    }
   ],
   "source": [
    "53==104/2"
   ]
  },
  {
   "cell_type": "code",
   "execution_count": 57,
   "id": "3455eb20-e1bd-474d-b7fc-23af102d53c4",
   "metadata": {},
   "outputs": [
    {
     "data": {
      "text/plain": [
       "3.141592653589793"
      ]
     },
     "execution_count": 57,
     "metadata": {},
     "output_type": "execute_result"
    }
   ],
   "source": [
    "math.pi"
   ]
  },
  {
   "cell_type": "code",
   "execution_count": 59,
   "id": "7d9af5dc-18de-4eb9-8570-9ba7b8a6a1cb",
   "metadata": {},
   "outputs": [
    {
     "data": {
      "text/plain": [
       "1.7724538509055159"
      ]
     },
     "execution_count": 59,
     "metadata": {},
     "output_type": "execute_result"
    }
   ],
   "source": [
    "  math.sqrt(math.pi)       #formula for square root"
   ]
  },
  {
   "cell_type": "code",
   "execution_count": 63,
   "id": "c133917a-0bc5-4532-bc82-6e31e149067f",
   "metadata": {},
   "outputs": [
    {
     "data": {
      "text/plain": [
       "3.0"
      ]
     },
     "execution_count": 63,
     "metadata": {},
     "output_type": "execute_result"
    }
   ],
   "source": [
    "math.dist([3],[6])         #formula for distance"
   ]
  },
  {
   "cell_type": "code",
   "execution_count": 65,
   "id": "d703f414-2f0a-4a11-8fa6-ed3993100e70",
   "metadata": {},
   "outputs": [
    {
     "data": {
      "text/plain": [
       "3.0"
      ]
     },
     "execution_count": 65,
     "metadata": {},
     "output_type": "execute_result"
    }
   ],
   "source": [
    "math.dist([-3],[-6])  #arrangement dosen't matter, we can change sequence like we can write -6 first"
   ]
  },
  {
   "cell_type": "code",
   "execution_count": 67,
   "id": "68cae2d0-41dd-4744-81f6-840a4d8f7eca",
   "metadata": {},
   "outputs": [
    {
     "data": {
      "text/plain": [
       "4"
      ]
     },
     "execution_count": 67,
     "metadata": {},
     "output_type": "execute_result"
    }
   ],
   "source": [
    "math.ceil(3.14157)"
   ]
  },
  {
   "cell_type": "code",
   "execution_count": 1,
   "id": "e9bf0064-5763-4037-946e-25c93f9c3f49",
   "metadata": {},
   "outputs": [],
   "source": [
    "# 12th august labs\n",
    "#Class\n"
   ]
  },
  {
   "cell_type": "code",
   "execution_count": 1,
   "id": "647216f0-e217-46c9-ad88-3bda512f8506",
   "metadata": {},
   "outputs": [
    {
     "name": "stdout",
     "output_type": "stream",
     "text": [
      "Amount Deposited:  9000\n",
      "Total Balance:  10300\n",
      "Current Balance:  10300\n",
      "5000 is withdrawn\n",
      "Current Balance:  5300\n"
     ]
    }
   ],
   "source": [
    "class BankAccount:\n",
    ".    def __init__(self, owner, balance=0):\n",
    "        self.owner = owner\n",
    "        self.balance = balance\n",
    "\n",
    "    def deposit(self, amount):\n",
    "        print(\"Amount Deposited: \", amount)\n",
    "        self.balance += amount\n",
    "        print(\"Total Balance: \", self.balance)\n",
    "\n",
    "    def withdraw(self, amount):\n",
    "        if amount > self.balance:\n",
    "            print(\"Insufficient Balance\")\n",
    "        else:\n",
    "            self.balance = self.balance - amount\n",
    "            print(f\"{amount} is withdrawn\")\n",
    "\n",
    "    def get_balance(self):\n",
    "        return self.balance\n",
    "obj1 = BankAccount(\"ABC\", 1300)\n",
    "obj1.deposit(9000)\n",
    "print(\"Current Balance: \", obj1.get_balance())\n",
    "obj1.withdraw(5000)\n",
    "print(\"Current Balance: \", obj1.get_balance())\n"
   ]
  },
  {
   "cell_type": "code",
   "execution_count": null,
   "id": "519647bd-d28a-4f31-8288-981869035277",
   "metadata": {},
   "outputs": [],
   "source": [
    "\n",
    "# Python Class Example: Managing Employee Information with Methods for Full Name, Email, Salary, and Department\n"
   ]
  },
  {
   "cell_type": "code",
   "execution_count": 1,
   "id": "b0d692bc-a4bf-4041-bd5c-78d073464385",
   "metadata": {},
   "outputs": [
    {
     "name": "stdout",
     "output_type": "stream",
     "text": [
      "Full name: Waseem waso\n",
      "Email: Waseemwaso0786@gmail.com\n",
      "Salary: 30000\n",
      "Department:  Management\n"
     ]
    }
   ],
   "source": [
    "class employInformation():\n",
    "    def __init__(self,fname,sname,salary,department):\n",
    "        self.fname=fname\n",
    "        self.sname=sname\n",
    "        self.salary=salary\n",
    "        self.department=department\n",
    "    def fullName(self):\n",
    "        print(f'Full name: {self.fname+\" \"+self.sname}')\n",
    "    def email(self):\n",
    "        print(f'Email: {self.fname+self.sname+\"0786@gmail.com\"}')\n",
    "    def employ_department(self):\n",
    "        print(f'Department: {self.department}')\n",
    "    def employ_salary(self):\n",
    "        print(f'Salary:',self.salary)\n",
    "obj=employInformation('Waseem','waso',30000,' Management')\n",
    "obj.fullName()\n",
    "obj.email()\n",
    "obj.employ_salary()\n",
    "obj.employ_department()"
   ]
  },
  {
   "cell_type": "code",
   "execution_count": 4,
   "id": "85176e97-f7b7-4561-9180-c1017b7b2049",
   "metadata": {
    "jp-MarkdownHeadingCollapsed": true
   },
   "outputs": [
    {
     "data": {
      "text/plain": [
       "6"
      ]
     },
     "execution_count": 4,
     "metadata": {},
     "output_type": "execute_result"
    }
   ],
   "source": [
    "list = [1 , 4 ,5]\n",
    "list2 = [2 , 5 ,6]\n",
    "list4 = list[2] + list[0]\n",
    "list4"
   ]
  },
  {
   "cell_type": "code",
   "execution_count": 20,
   "id": "ab55b5a7-ffa0-421a-a16a-9ebe7158428d",
   "metadata": {},
   "outputs": [
    {
     "data": {
      "text/plain": [
       "(6,)"
      ]
     },
     "execution_count": 20,
     "metadata": {},
     "output_type": "execute_result"
    }
   ],
   "source": [
    "import numpy as np\n",
    "list = np.array([2 , 5 ,6 ,66 , 65 , 76])\n",
    "index = np.array([2 , 3])\n",
    "list_4 = np.arange(8)\n",
    "list_5= np.shape(list)\n",
    "list[index]\n",
    "list_5"
   ]
  },
  {
   "cell_type": "code",
   "execution_count": 20,
   "id": "b4cefca8-1201-4690-b770-67a1a3f818e3",
   "metadata": {},
   "outputs": [
    {
     "data": {
      "text/plain": [
       "(6,)"
      ]
     },
     "execution_count": 20,
     "metadata": {},
     "output_type": "execute_result"
    }
   ],
   "source": [
    "import numpy as np\n",
    "list = np.array([2 , 5 ,6 ,66 , 65 , 76])\n",
    "index = np.array([2 , 3])\n",
    "list_4 = np.arange(8)\n",
    "list_5= np.shape(list)\n",
    "list[index]\n",
    "list_5"
   ]
  },
  {
   "cell_type": "code",
   "execution_count": 20,
   "id": "d1d9a474-07c2-444f-b0b3-e348a4fddaf5",
   "metadata": {},
   "outputs": [
    {
     "data": {
      "text/plain": [
       "(6,)"
      ]
     },
     "execution_count": 20,
     "metadata": {},
     "output_type": "execute_result"
    }
   ],
   "source": [
    "import numpy as np\n",
    "list = np.array([2 , 5 ,6 ,66 , 65 , 76])\n",
    "index = np.array([2 , 3])\n",
    "list_4 = np.arange(8)\n",
    "list_5= np.shape(list)\n",
    "list[index]\n",
    "list_5"
   ]
  },
  {
   "cell_type": "code",
   "execution_count": 17,
   "id": "4419f98e-8fb1-4305-8a75-be8b603c9303",
   "metadata": {},
   "outputs": [
    {
     "name": "stdout",
     "output_type": "stream",
     "text": [
      "[[[[1. 1. 1. 1.]\n",
      "   [1. 1. 1. 1.]\n",
      "   [1. 1. 1. 1.]]\n",
      "\n",
      "  [[1. 1. 1. 1.]\n",
      "   [1. 1. 1. 1.]\n",
      "   [1. 1. 1. 1.]]\n",
      "\n",
      "  [[1. 1. 1. 1.]\n",
      "   [1. 1. 1. 1.]\n",
      "   [1. 1. 1. 1.]]]\n",
      "\n",
      "\n",
      " [[[1. 1. 1. 1.]\n",
      "   [1. 1. 1. 1.]\n",
      "   [1. 1. 1. 1.]]\n",
      "\n",
      "  [[1. 1. 1. 1.]\n",
      "   [1. 1. 1. 1.]\n",
      "   [1. 1. 1. 1.]]\n",
      "\n",
      "  [[1. 1. 1. 1.]\n",
      "   [1. 1. 1. 1.]\n",
      "   [1. 1. 1. 1.]]]]\n"
     ]
    }
   ],
   "source": [
    "import numpy as np\n",
    "\n",
    "# Create a 3x3 matrix with all elements as 1\n",
    "d = np.ones((2 , 3 ,3, 4))\n",
    "print(d)\n"
   ]
  },
  {
   "cell_type": "code",
   "execution_count": 21,
   "id": "76016f0c-2329-432b-bf51-882de97c8d90",
   "metadata": {},
   "outputs": [
    {
     "data": {
      "text/plain": [
       "4"
      ]
     },
     "execution_count": 21,
     "metadata": {},
     "output_type": "execute_result"
    }
   ],
   "source": [
    "import numpy as np\n",
    "\n",
    "# Create a 3x3 matrix with all elements as 1\n",
    "d = np.ones((2 , 3 ,3, 4))\n",
    "d.ndim                                                 #find dimensions\n",
    "\n"
   ]
  },
  {
   "cell_type": "code",
   "execution_count": 23,
   "id": "f24e819d-deaf-4c4c-be48-f0b4a76e3a8f",
   "metadata": {},
   "outputs": [
    {
     "data": {
      "text/plain": [
       "72"
      ]
     },
     "execution_count": 23,
     "metadata": {},
     "output_type": "execute_result"
    }
   ],
   "source": [
    "import numpy as np\n",
    "\n",
    "# Create a 3x3 matrix with all elements as 1\n",
    "d = np.ones((2 , 3 ,3, 4))                                    #find size \n",
    "d.size\n"
   ]
  },
  {
   "cell_type": "code",
   "execution_count": 25,
   "id": "689311ee-ff07-47fd-ba78-d16affa812f6",
   "metadata": {},
   "outputs": [
    {
     "data": {
      "text/plain": [
       "3"
      ]
     },
     "execution_count": 25,
     "metadata": {},
     "output_type": "execute_result"
    }
   ],
   "source": [
    "import numpy as np\n",
    "\n",
    "# Create a 3x3 matrix with all elements as 1\n",
    "d = np.ones((2 , 3 ,3))\n",
    "d.ndim\n"
   ]
  },
  {
   "cell_type": "code",
   "execution_count": 27,
   "id": "60c18072-5a04-4f8f-9879-e465a9ed3ac5",
   "metadata": {},
   "outputs": [
    {
     "name": "stdout",
     "output_type": "stream",
     "text": [
      "[[[[0. 0. 0. 0.]\n",
      "   [0. 0. 0. 0.]\n",
      "   [0. 0. 0. 0.]]\n",
      "\n",
      "  [[0. 0. 0. 0.]\n",
      "   [0. 0. 0. 0.]\n",
      "   [0. 0. 0. 0.]]\n",
      "\n",
      "  [[0. 0. 0. 0.]\n",
      "   [0. 0. 0. 0.]\n",
      "   [0. 0. 0. 0.]]]\n",
      "\n",
      "\n",
      " [[[0. 0. 0. 0.]\n",
      "   [0. 0. 0. 0.]\n",
      "   [0. 0. 0. 0.]]\n",
      "\n",
      "  [[0. 0. 0. 0.]\n",
      "   [0. 0. 0. 0.]\n",
      "   [0. 0. 0. 0.]]\n",
      "\n",
      "  [[0. 0. 0. 0.]\n",
      "   [0. 0. 0. 0.]\n",
      "   [0. 0. 0. 0.]]]]\n"
     ]
    }
   ],
   "source": [
    "import numpy as np\n",
    "\n",
    "# Create a 3x3 matrix with all elements as 1\n",
    "d = np.zeros((2 , 3 ,3, 4))\n",
    "print(d) \n"
   ]
  },
  {
   "cell_type": "code",
   "execution_count": 29,
   "id": "381117a2-c298-4993-84cf-2e97f64cf49a",
   "metadata": {},
   "outputs": [
    {
     "data": {
      "text/plain": [
       "72"
      ]
     },
     "execution_count": 29,
     "metadata": {},
     "output_type": "execute_result"
    }
   ],
   "source": [
    "import numpy as np\n",
    "\n",
    "# Create a 3x3 matrix with all elements as 1\n",
    "d = np.zeros((2 , 3 ,3, 4))\n",
    "d.size\n"
   ]
  },
  {
   "cell_type": "code",
   "execution_count": 31,
   "id": "9780adb2-1af6-4ddb-87be-fcbb51b8eac9",
   "metadata": {},
   "outputs": [
    {
     "data": {
      "text/plain": [
       "4"
      ]
     },
     "execution_count": 31,
     "metadata": {},
     "output_type": "execute_result"
    }
   ],
   "source": [
    "import numpy as np\n",
    "\n",
    "# Create a 3x3 matrix with all elements as 1\n",
    "d = np.zeros((2 , 3 ,3, 4))\n",
    "d.ndim\n"
   ]
  },
  {
   "cell_type": "code",
   "execution_count": 33,
   "id": "97aac6a7-3de4-4509-917d-2d6e7be62ccb",
   "metadata": {},
   "outputs": [
    {
     "data": {
      "text/plain": [
       "array([[[[0., 0., 0., 0.],\n",
       "         [0., 0., 0., 0.],\n",
       "         [0., 0., 0., 0.]],\n",
       "\n",
       "        [[0., 0., 0., 0.],\n",
       "         [0., 0., 0., 0.],\n",
       "         [0., 0., 0., 0.]],\n",
       "\n",
       "        [[0., 0., 0., 0.],\n",
       "         [0., 0., 0., 0.],\n",
       "         [0., 0., 0., 0.]]],\n",
       "\n",
       "\n",
       "       [[[0., 0., 0., 0.],\n",
       "         [0., 0., 0., 0.],\n",
       "         [0., 0., 0., 0.]],\n",
       "\n",
       "        [[0., 0., 0., 0.],\n",
       "         [0., 0., 0., 0.],\n",
       "         [0., 0., 0., 0.]],\n",
       "\n",
       "        [[0., 0., 0., 0.],\n",
       "         [0., 0., 0., 0.],\n",
       "         [0., 0., 0., 0.]]]])"
      ]
     },
     "execution_count": 33,
     "metadata": {},
     "output_type": "execute_result"
    }
   ],
   "source": [
    "import numpy as np\n",
    "\n",
    "# Create a 3x3 matrix with all elements as 1\n",
    "d = np.zeros((2 , 3 ,3, 4))\n",
    "d.ndim\n",
    "d\n"
   ]
  },
  {
   "cell_type": "code",
   "execution_count": 35,
   "id": "6ce40580-02d8-4449-9af2-5d92139df04a",
   "metadata": {},
   "outputs": [
    {
     "name": "stdout",
     "output_type": "stream",
     "text": [
      "[[[0. 0. 0. ... 0. 0. 0.]\n",
      "  [0. 0. 0. ... 0. 0. 0.]\n",
      "  [0. 0. 0. ... 0. 0. 0.]\n",
      "  ...\n",
      "  [0. 0. 0. ... 0. 0. 0.]\n",
      "  [0. 0. 0. ... 0. 0. 0.]\n",
      "  [0. 0. 0. ... 0. 0. 0.]]\n",
      "\n",
      " [[0. 0. 0. ... 0. 0. 0.]\n",
      "  [0. 0. 0. ... 0. 0. 0.]\n",
      "  [0. 0. 0. ... 0. 0. 0.]\n",
      "  ...\n",
      "  [0. 0. 0. ... 0. 0. 0.]\n",
      "  [0. 0. 0. ... 0. 0. 0.]\n",
      "  [0. 0. 0. ... 0. 0. 0.]]\n",
      "\n",
      " [[0. 0. 0. ... 0. 0. 0.]\n",
      "  [0. 0. 0. ... 0. 0. 0.]\n",
      "  [0. 0. 0. ... 0. 0. 0.]\n",
      "  ...\n",
      "  [0. 0. 0. ... 0. 0. 0.]\n",
      "  [0. 0. 0. ... 0. 0. 0.]\n",
      "  [0. 0. 0. ... 0. 0. 0.]]\n",
      "\n",
      " ...\n",
      "\n",
      " [[0. 0. 0. ... 0. 0. 0.]\n",
      "  [0. 0. 0. ... 0. 0. 0.]\n",
      "  [0. 0. 0. ... 0. 0. 0.]\n",
      "  ...\n",
      "  [0. 0. 0. ... 0. 0. 0.]\n",
      "  [0. 0. 0. ... 0. 0. 0.]\n",
      "  [0. 0. 0. ... 0. 0. 0.]]\n",
      "\n",
      " [[0. 0. 0. ... 0. 0. 0.]\n",
      "  [0. 0. 0. ... 0. 0. 0.]\n",
      "  [0. 0. 0. ... 0. 0. 0.]\n",
      "  ...\n",
      "  [0. 0. 0. ... 0. 0. 0.]\n",
      "  [0. 0. 0. ... 0. 0. 0.]\n",
      "  [0. 0. 0. ... 0. 0. 0.]]\n",
      "\n",
      " [[0. 0. 0. ... 0. 0. 0.]\n",
      "  [0. 0. 0. ... 0. 0. 0.]\n",
      "  [0. 0. 0. ... 0. 0. 0.]\n",
      "  ...\n",
      "  [0. 0. 0. ... 0. 0. 0.]\n",
      "  [0. 0. 0. ... 0. 0. 0.]\n",
      "  [0. 0. 0. ... 0. 0. 0.]]]\n"
     ]
    }
   ],
   "source": [
    "import numpy as np\n",
    "\n",
    "# Create a 3x3 matrix with all elements as 1\n",
    "d = np.zeros((10,50,10))\n",
    "print(d)\n"
   ]
  }
 ],
 "metadata": {
  "kernelspec": {
   "display_name": "Python 3 (ipykernel)",
   "language": "python",
   "name": "python3"
  },
  "language_info": {
   "codemirror_mode": {
    "name": "ipython",
    "version": 3
   },
   "file_extension": ".py",
   "mimetype": "text/x-python",
   "name": "python",
   "nbconvert_exporter": "python",
   "pygments_lexer": "ipython3",
   "version": "3.11.7"
  }
 },
 "nbformat": 4,
 "nbformat_minor": 5
}
